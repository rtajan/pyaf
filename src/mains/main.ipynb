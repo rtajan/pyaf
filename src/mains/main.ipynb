{
 "cells": [
  {
   "cell_type": "code",
   "execution_count": 1,
   "metadata": {},
   "outputs": [],
   "source": [
    "import sys  \n",
    "sys.path.insert(0, '../../build/lib') # pyaf location\n",
    "sys.path.insert(0, '../../py_aff3ct/build/lib') # py_aff3ct location\n",
    "import py_aff3ct\n",
    "import pyaf"
   ]
  },
  {
   "cell_type": "code",
   "execution_count": 2,
   "metadata": {},
   "outputs": [],
   "source": [
    "K = 128\n",
    "N = 3*K\n",
    "\n",
    "osf   = 3\n",
    "alpha = 0.7\n",
    "grp_delay = 20\n",
    "\n",
    "src = py_aff3ct.module.source.Source_random(K)\n",
    "enc = py_aff3ct.module.encoder.Encoder_repetition_sys(K,N)\n",
    "mod = py_aff3ct.module.modem.Modem_BPSK_fast(N)\n",
    "h   = pyaf.filter.Filter_root_raised_cosine.synthetize(alpha,osf,grp_delay)\n",
    "flt = pyaf.filter.Filter_UPFIR(N,h,osf)\n",
    "ups = pyaf.upsampling.Upsampling_cplx(N,osf)"
   ]
  },
  {
   "cell_type": "code",
   "execution_count": 3,
   "metadata": {},
   "outputs": [],
   "source": [
    "enc[  'encode::U_K' ] = src['generate::U_K' ]\n",
    "mod['modulate::X_N1'] = enc[  'encode::X_N' ]\n",
    "flt[  'filter::X_N1'] = mod['modulate::X_N2']\n",
    "ups['upsample::X_N1'] = mod['modulate::X_N2']"
   ]
  },
  {
   "cell_type": "code",
   "execution_count": 4,
   "metadata": {},
   "outputs": [],
   "source": [
    "src['generate'].debug = True\n",
    "enc['encode'  ].debug = True\n",
    "mod['modulate'].debug = True\n",
    "flt['filter'  ].debug = True\n",
    "ups['upsample'].debug = True\n",
    "src['generate'].set_debug_limit(10)\n",
    "enc['encode'  ].set_debug_limit(10)\n",
    "mod['modulate'].set_debug_limit(10)\n",
    "flt['filter'  ].set_debug_limit(100)\n",
    "ups['upsample'].set_debug_limit(100)"
   ]
  },
  {
   "cell_type": "code",
   "execution_count": 5,
   "metadata": {},
   "outputs": [
    {
     "name": "stdout",
     "output_type": "stream",
     "text": [
      "# Source_random::generate(int32 U_K[128])\n",
      "# {OUT} U_K = [    0,     1,     1,     0,     1,     1,     1,     1,     1,     1, ...]\n",
      "# Returned status: [0 'SUCCESS']\n",
      "#\n",
      "# Encoder_repetition_sys::encode(const int32 U_K[128], int32 X_N[384])\n",
      "# {IN}  U_K = [    0,     1,     1,     0,     1,     1,     1,     1,     1,     1, ...]\n",
      "# {OUT} X_N = [    0,     1,     1,     0,     1,     1,     1,     1,     1,     1, ...]\n",
      "# Returned status: [0 'SUCCESS']\n",
      "#\n",
      "# Modem_BPSK_fast::modulate(const int32 X_N1[384], float32 X_N2[384])\n",
      "# {IN}  X_N1 = [    0,     1,     1,     0,     1,     1,     1,     1,     1,     1, ...]\n",
      "# {OUT} X_N2 = [ 1.00, -1.00, -1.00,  1.00, -1.00, -1.00, -1.00, -1.00, -1.00, -1.00, ...]\n",
      "# Returned status: [0 'SUCCESS']\n",
      "#\n",
      "# Filter::filter(const float32 X_N1[384], float32 Y_N2[1152])\n",
      "# {IN}  X_N1 = [ 1.00, -1.00, -1.00,  1.00, -1.00, -1.00, -1.00, -1.00, -1.00, -1.00, -1.00,  1.00,  1.00, -1.00,  1.00,  1.00,  1.00,  1.00,  1.00, -1.00,  1.00, -1.00, -1.00,  1.00,  1.00, -1.00, -1.00, -1.00, -1.00,  1.00, -1.00,  1.00, -1.00,  1.00, -1.00, -1.00,  1.00, -1.00, -1.00,  1.00,  1.00, -1.00,  1.00, -1.00, -1.00, -1.00, -1.00, -1.00,  1.00, -1.00,  1.00, -1.00, -1.00, -1.00, -1.00,  1.00, -1.00,  1.00,  1.00, -1.00, -1.00,  1.00, -1.00,  1.00, -1.00,  1.00,  1.00,  1.00,  1.00,  1.00, -1.00, -1.00,  1.00,  1.00,  1.00, -1.00, -1.00,  1.00, -1.00,  1.00,  1.00, -1.00,  1.00, -1.00, -1.00, -1.00, -1.00, -1.00, -1.00,  1.00, -1.00, -1.00,  1.00,  1.00, -1.00,  1.00,  1.00, -1.00, -1.00,  1.00, ...]\n",
      "# {OUT} Y_N2 = [-0.00,  0.00,  0.00, -0.00,  0.00, -0.00,  0.00, -0.00, -0.00,  0.00,  0.00, -0.00,  0.00, -0.00, -0.00,  0.00, -0.00, -0.00,  0.00,  0.00,  0.00, -0.00, -0.00, -0.00,  0.00,  0.00,  0.00,  0.00, -0.00, -0.00, -0.00, -0.00,  0.00,  0.00, -0.00,  0.00, -0.00, -0.00,  0.00,  0.00,  0.00,  0.00, -0.00, -0.00, -0.00, -0.00,  0.00,  0.00, -0.00, -0.00, -0.00, -0.00,  0.00,  0.00,  0.00,  0.00, -0.00, -0.00, -0.00, -0.00,  0.00,  0.00, -0.00, -0.00, -0.00, -0.00,  0.00,  0.00,  0.00,  0.00, -0.00, -0.00, -0.00, -0.00,  0.00,  0.00,  0.00, -0.00, -0.00, -0.00,  0.00,  0.00,  0.00,  0.00, -0.00, -0.00, -0.00, -0.00,  0.00,  0.00,  0.00, -0.00, -0.00, -0.00,  0.00,  0.00,  0.01, -0.00, -0.00, -0.00, ...]\n",
      "# Returned status: [0 'SUCCESS']\n",
      "#\n",
      "# Upsampling_cplx::upsample(const float32 X_N1[384], float32 Y_N2[147456])\n",
      "# {IN}  X_N1 = [ 1.00, -1.00, -1.00,  1.00, -1.00, -1.00, -1.00, -1.00, -1.00, -1.00, -1.00,  1.00,  1.00, -1.00,  1.00,  1.00,  1.00,  1.00,  1.00, -1.00,  1.00, -1.00, -1.00,  1.00,  1.00, -1.00, -1.00, -1.00, -1.00,  1.00, -1.00,  1.00, -1.00,  1.00, -1.00, -1.00,  1.00, -1.00, -1.00,  1.00,  1.00, -1.00,  1.00, -1.00, -1.00, -1.00, -1.00, -1.00,  1.00, -1.00,  1.00, -1.00, -1.00, -1.00, -1.00,  1.00, -1.00,  1.00,  1.00, -1.00, -1.00,  1.00, -1.00,  1.00, -1.00,  1.00,  1.00,  1.00,  1.00,  1.00, -1.00, -1.00,  1.00,  1.00,  1.00, -1.00, -1.00,  1.00, -1.00,  1.00,  1.00, -1.00,  1.00, -1.00, -1.00, -1.00, -1.00, -1.00, -1.00,  1.00, -1.00, -1.00,  1.00,  1.00, -1.00,  1.00,  1.00, -1.00, -1.00,  1.00, ...]\n",
      "# {OUT} Y_N2 = [ 1.00, -1.00,  0.00,  0.00,  0.00,  0.00, -1.00,  1.00,  0.00,  0.00,  0.00,  0.00, -1.00, -1.00,  0.00,  0.00,  0.00,  0.00, -1.00, -1.00,  0.00,  0.00,  0.00,  0.00, -1.00, -1.00,  0.00,  0.00,  0.00,  0.00, -1.00,  1.00,  0.00,  0.00,  0.00,  0.00,  1.00, -1.00,  0.00,  0.00,  0.00,  0.00,  1.00,  1.00,  0.00,  0.00,  0.00,  0.00,  1.00,  1.00,  0.00,  0.00,  0.00,  0.00,  1.00, -1.00,  0.00,  0.00,  0.00,  0.00,  1.00, -1.00,  0.00,  0.00,  0.00,  0.00, -1.00,  1.00,  0.00,  0.00,  0.00,  0.00,  1.00, -1.00,  0.00,  0.00,  0.00,  0.00, -1.00, -1.00,  0.00,  0.00,  0.00,  0.00, -1.00,  1.00,  0.00,  0.00,  0.00,  0.00, -1.00,  1.00,  0.00,  0.00,  0.00,  0.00, -1.00,  1.00,  0.00,  0.00, ...]\n",
      "# Returned status: [0 'SUCCESS']\n",
      "#\n"
     ]
    }
   ],
   "source": [
    "src['generate'].exec()\n",
    "enc['encode'  ].exec()\n",
    "mod['modulate'].exec()\n",
    "flt['filter'  ].exec()\n",
    "ups['upsample'].exec()"
   ]
  },
  {
   "cell_type": "code",
   "execution_count": null,
   "metadata": {},
   "outputs": [],
   "source": []
  }
 ],
 "metadata": {
  "interpreter": {
   "hash": "aee8b7b246df8f9039afb4144a1f6fd8d2ca17a180786b69acc140d282b71a49"
  },
  "kernelspec": {
   "display_name": "Python 3.9.12 64-bit",
   "language": "python",
   "name": "python3"
  },
  "language_info": {
   "codemirror_mode": {
    "name": "ipython",
    "version": 3
   },
   "file_extension": ".py",
   "mimetype": "text/x-python",
   "name": "python",
   "nbconvert_exporter": "python",
   "pygments_lexer": "ipython3",
   "version": "3.9.12"
  },
  "orig_nbformat": 4
 },
 "nbformat": 4,
 "nbformat_minor": 2
}
